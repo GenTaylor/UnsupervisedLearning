{
 "cells": [
  {
   "cell_type": "code",
   "execution_count": 1,
   "metadata": {},
   "outputs": [],
   "source": [
    "import numpy as np\n",
    "import pandas as pd \n",
    "import os\n",
    "import seaborn as sns\n",
    "import matplotlib.pyplot as plt\n",
    "from sklearn.metrics import accuracy_score, f1_score, precision_score, recall_score, classification_report, confusion_matrix\n",
    "\n",
    "from sklearn.model_selection import cross_val_score\n",
    "from sklearn.neural_network import MLPClassifier\n",
    "import warnings\n",
    "warnings.filterwarnings(\"ignore\")"
   ]
  },
  {
   "cell_type": "code",
   "execution_count": 2,
   "metadata": {},
   "outputs": [],
   "source": [
    "df = pd.read_csv('https://raw.githubusercontent.com/jg-fisher/diabetesNeuralNetwork/master/prima-indians-diabetes.csv', delimiter=\",\")"
   ]
  },
  {
   "cell_type": "code",
   "execution_count": 3,
   "metadata": {},
   "outputs": [],
   "source": [
    "# split into input (X) and output (Y) variables, splitting csv data\n",
    "\n",
    "\n",
    "X = df.iloc[:,:8]\n",
    "y = df.iloc[:,8]\n",
    "\n",
    "from sklearn.model_selection import train_test_split\n",
    "\n",
    "X_train, X_test, y_train, y_test = train_test_split(X,y, test_size = 0.3, random_state = 42)\n",
    "\n",
    "http://localhost:8888/notebooks/Desktop/Thinkful/SupervisedLearning/SupervisedLearningCapstone/Untitled1.ipynb?kernel_name=python3#Single-Perceptron-Layers-10,-50,-100"
   ]
  },
  {
   "cell_type": "markdown",
   "metadata": {},
   "source": [
    "## Single Perceptron Layers 10, 50, 100"
   ]
  },
  {
   "cell_type": "code",
   "execution_count": 4,
   "metadata": {},
   "outputs": [
    {
     "name": "stdout",
     "output_type": "stream",
     "text": [
      "MLP with 10 Cross Validation Scores: [64.81481481 64.81481481 67.28971963 60.74766355 76.41509434]\n",
      "MLP with 10 Accuracy Score: 66.23376623376623\n"
     ]
    }
   ],
   "source": [
    "mlp10 = MLPClassifier(hidden_layer_sizes=(10,), random_state=42)\n",
    "mlp10.fit(X_train, y_train)\n",
    "mlp10_predict=mlp10.predict(X_test)\n",
    "mlp10_conf_matrix=confusion_matrix(y_test, mlp10_predict)\n",
    "mlp10_acc_score = accuracy_score(y_test, mlp10_predict)\n",
    "\n",
    "print(\"MLP with 10 Cross Validation Scores:\", cross_val_score(mlp10, X_train, y_train, cv=5)*100)\n",
    "print(\"MLP with 10 Accuracy Score:\",mlp10_acc_score*100)\n"
   ]
  },
  {
   "cell_type": "code",
   "execution_count": 5,
   "metadata": {},
   "outputs": [
    {
     "name": "stdout",
     "output_type": "stream",
     "text": [
      "MLP with 50 Cross Validation Scores: [62.96296296 68.51851852 67.28971963 61.68224299 70.75471698]\n",
      "MLP with 50 Accuracy Score: 73.16017316017316\n"
     ]
    }
   ],
   "source": [
    "mlp50 = MLPClassifier(hidden_layer_sizes=(50,), random_state=42)\n",
    "mlp50.fit(X_train, y_train)\n",
    "mlp50_predict=mlp50.predict(X_test)\n",
    "mlp50_conf_matrix=confusion_matrix(y_test, mlp50_predict)\n",
    "mlp50_acc_score = accuracy_score(y_test, mlp50_predict)\n",
    "\n",
    "print(\"MLP with 50 Cross Validation Scores:\", cross_val_score(mlp50, X_train, y_train, cv=5)*100)\n",
    "print(\"MLP with 50 Accuracy Score:\",mlp50_acc_score*100)\n"
   ]
  },
  {
   "cell_type": "code",
   "execution_count": 6,
   "metadata": {},
   "outputs": [
    {
     "name": "stdout",
     "output_type": "stream",
     "text": [
      "MLP with 100 Cross Validation Scores: [62.03703704 70.37037037 70.09345794 64.48598131 74.52830189]\n",
      "MLP with 100 Accuracy Score: 71.42857142857143\n"
     ]
    }
   ],
   "source": [
    "mlp100 = MLPClassifier(hidden_layer_sizes=(100,), random_state=42)\n",
    "mlp100.fit(X_train, y_train)\n",
    "mlp100_predict=mlp100.predict(X_test)\n",
    "mlp100_conf_matrix=confusion_matrix(y_test, mlp100_predict)\n",
    "mlp100_acc_score = accuracy_score(y_test, mlp100_predict)\n",
    "\n",
    "print(\"MLP with 100 Cross Validation Scores:\", cross_val_score(mlp100, X_train, y_train, cv=5)*100)\n",
    "print(\"MLP with 100 Accuracy Score:\",mlp100_acc_score*100)\n",
    "\n"
   ]
  },
  {
   "cell_type": "code",
   "execution_count": 10,
   "metadata": {},
   "outputs": [
    {
     "name": "stdout",
     "output_type": "stream",
     "text": [
      "Accuracy Scores:\n",
      "MLP with 10 Accuracy Score: 66.23376623376623\n",
      "MLP with 50 Accuracy Score: 73.16017316017316\n",
      "MLP with 100 Accuracy Score: 71.42857142857143\n",
      "\n",
      "Cross Validation Scores:\n",
      "MLP with 10 Cross Validation Scores: [64.81481481 64.81481481 67.28971963 60.74766355 76.41509434]\n",
      "MLP with 50 Cross Validation Scores: [62.96296296 68.51851852 67.28971963 61.68224299 70.75471698]\n",
      "MLP with 100 Cross Validation Scores: [62.03703704 70.37037037 70.09345794 64.48598131 74.52830189]\n"
     ]
    }
   ],
   "source": [
    "print(\"Accuracy Scores:\")\n",
    "print(\"MLP with 10 Accuracy Score:\",mlp10_acc_score*100)\n",
    "print(\"MLP with 50 Accuracy Score:\",mlp50_acc_score*100)\n",
    "print(\"MLP with 100 Accuracy Score:\",mlp100_acc_score*100)\n",
    "\n",
    "print(\"\\nCross Validation Scores:\")\n",
    "print(\"MLP with 10 Cross Validation Scores:\", cross_val_score(mlp10, X_train, y_train, cv=5)*100)\n",
    "print(\"MLP with 50 Cross Validation Scores:\", cross_val_score(mlp50, X_train, y_train, cv=5)*100)\n",
    "print(\"MLP with 100 Cross Validation Scores:\", cross_val_score(mlp100, X_train, y_train, cv=5)*100)"
   ]
  },
  {
   "cell_type": "code",
   "execution_count": 12,
   "metadata": {},
   "outputs": [],
   "source": [
    "## Double Perceptron Layers w/ 2nd layer at 10"
   ]
  },
  {
   "cell_type": "code",
   "execution_count": 13,
   "metadata": {},
   "outputs": [
    {
     "name": "stdout",
     "output_type": "stream",
     "text": [
      "MLP with 10,10 Cross Validation Scores: [67.59259259 71.2962963  68.22429907 69.1588785  70.75471698]\n",
      "MLP with 10,10 Accuracy Score: 70.12987012987013\n"
     ]
    }
   ],
   "source": [
    "mlp1010 = MLPClassifier(hidden_layer_sizes=(10,10), random_state=42)\n",
    "mlp1010.fit(X_train, y_train)\n",
    "mlp1010_predict=mlp1010.predict(X_test)\n",
    "mlp1010_conf_matrix=confusion_matrix(y_test, mlp1010_predict)\n",
    "mlp1010_acc_score = accuracy_score(y_test, mlp1010_predict)\n",
    "\n",
    "print(\"MLP with 10,10 Cross Validation Scores:\", cross_val_score(mlp1010, X_train, y_train, cv=5)*100)\n",
    "print(\"MLP with 10,10 Accuracy Score:\",mlp1010_acc_score*100)\n"
   ]
  },
  {
   "cell_type": "code",
   "execution_count": 14,
   "metadata": {},
   "outputs": [
    {
     "name": "stdout",
     "output_type": "stream",
     "text": [
      "MLP with 50,10 Cross Validation Scores: [65.74074074 71.2962963  70.09345794 64.48598131 70.75471698]\n",
      "MLP with 50,10 Accuracy Score: 74.89177489177489\n"
     ]
    }
   ],
   "source": [
    "mlp5010 = MLPClassifier(hidden_layer_sizes=(50,10), random_state=42)\n",
    "mlp5010.fit(X_train, y_train)\n",
    "mlp5010_predict=mlp5010.predict(X_test)\n",
    "mlp5010_conf_matrix=confusion_matrix(y_test, mlp5010_predict)\n",
    "mlp5010_acc_score = accuracy_score(y_test, mlp5010_predict)\n",
    "\n",
    "print(\"MLP with 50,10 Cross Validation Scores:\", cross_val_score(mlp5010, X_train, y_train, cv=5)*100)\n",
    "print(\"MLP with 50,10 Accuracy Score:\",mlp5010_acc_score*100)\n"
   ]
  },
  {
   "cell_type": "code",
   "execution_count": 15,
   "metadata": {},
   "outputs": [
    {
     "name": "stdout",
     "output_type": "stream",
     "text": [
      "MLP with 100,10 Cross Validation Scores: [60.18518519 69.44444444 64.48598131 65.42056075 71.69811321]\n",
      "MLP with 100,10 Accuracy Score: 69.6969696969697\n"
     ]
    }
   ],
   "source": [
    "# Establish and fit the model, with a single, 100 perceptron layer.\n",
    "mlp10010 = MLPClassifier(hidden_layer_sizes=(100,10), random_state=42)\n",
    "mlp10010.fit(X_train, y_train)\n",
    "mlp10010_predict=mlp10010.predict(X_test)\n",
    "mlp10010_conf_matrix=confusion_matrix(y_test, mlp10010_predict)\n",
    "mlp10010_acc_score = accuracy_score(y_test, mlp10010_predict)\n",
    "\n",
    "print(\"MLP with 100,10 Cross Validation Scores:\", cross_val_score(mlp10010, X_train, y_train, cv=5)*100)\n",
    "print(\"MLP with 100,10 Accuracy Score:\",mlp10010_acc_score*100)\n"
   ]
  },
  {
   "cell_type": "code",
   "execution_count": 17,
   "metadata": {},
   "outputs": [
    {
     "name": "stdout",
     "output_type": "stream",
     "text": [
      "Accuracy Scores:\n",
      "MLP with 10,10 Accuracy Score: 70.12987012987013\n",
      "MLP with 50,10 Accuracy Score: 74.89177489177489\n",
      "MLP with 100,10 Accuracy Score: 69.6969696969697\n",
      "\n",
      "Cross Validation Scores:\n",
      "MLP with 10,10 Cross Validation Scores: [67.59259259 71.2962963  68.22429907 69.1588785  70.75471698]\n",
      "MLP with 50,10 Cross Validation Scores: [65.74074074 71.2962963  70.09345794 64.48598131 70.75471698]\n",
      "MLP with 100,10 Cross Validation Scores: [60.18518519 69.44444444 64.48598131 65.42056075 71.69811321]\n"
     ]
    }
   ],
   "source": [
    "print(\"Accuracy Scores:\")\n",
    "print(\"MLP with 10,10 Accuracy Score:\",mlp1010_acc_score*100)\n",
    "print(\"MLP with 50,10 Accuracy Score:\",mlp5010_acc_score*100)\n",
    "print(\"MLP with 100,10 Accuracy Score:\",mlp10010_acc_score*100)\n",
    "\n",
    "print(\"\\nCross Validation Scores:\")\n",
    "print(\"MLP with 10,10 Cross Validation Scores:\", cross_val_score(mlp1010, X_train, y_train, cv=5)*100)\n",
    "print(\"MLP with 50,10 Cross Validation Scores:\", cross_val_score(mlp5010, X_train, y_train, cv=5)*100)\n",
    "print(\"MLP with 100,10 Cross Validation Scores:\", cross_val_score(mlp10010, X_train, y_train, cv=5)*100)"
   ]
  },
  {
   "cell_type": "markdown",
   "metadata": {},
   "source": [
    "## Double Perceptron Layers w/ 2nd layer at 50"
   ]
  },
  {
   "cell_type": "code",
   "execution_count": 19,
   "metadata": {},
   "outputs": [
    {
     "name": "stdout",
     "output_type": "stream",
     "text": [
      "MLP with 10,50 Cross Validation Scores: [65.74074074 66.66666667 66.35514019 60.74766355 68.86792453]\n",
      "MLP with 10,50 Accuracy Score: 74.45887445887446\n"
     ]
    }
   ],
   "source": [
    "mlp1050 = MLPClassifier(hidden_layer_sizes=(10,50), random_state=42)\n",
    "mlp1050.fit(X_train, y_train)\n",
    "mlp1050_predict=mlp1050.predict(X_test)\n",
    "mlp1050_conf_matrix=confusion_matrix(y_test, mlp1050_predict)\n",
    "mlp1050_acc_score = accuracy_score(y_test, mlp1050_predict)\n",
    "\n",
    "print(\"MLP with 10,50 Cross Validation Scores:\", cross_val_score(mlp1050, X_train, y_train, cv=5)*100)\n",
    "print(\"MLP with 10,50 Accuracy Score:\",mlp1050_acc_score*100)\n",
    "\n"
   ]
  },
  {
   "cell_type": "code",
   "execution_count": 20,
   "metadata": {},
   "outputs": [
    {
     "name": "stdout",
     "output_type": "stream",
     "text": [
      "MLP with 50,50 Cross Validation Scores: [63.88888889 73.14814815 68.22429907 66.35514019 74.52830189]\n",
      "MLP with 50,50 Accuracy Score: 73.59307359307358\n"
     ]
    }
   ],
   "source": [
    "mlp5050 = MLPClassifier(hidden_layer_sizes=(50,50), random_state=42)\n",
    "mlp5050.fit(X_train, y_train)\n",
    "mlp5050_predict=mlp5050.predict(X_test)\n",
    "mlp5050_conf_matrix=confusion_matrix(y_test, mlp5050_predict)\n",
    "mlp5050_acc_score = accuracy_score(y_test, mlp5050_predict)\n",
    "\n",
    "print(\"MLP with 50,50 Cross Validation Scores:\", cross_val_score(mlp5050, X_train, y_train, cv=5)*100)\n",
    "print(\"MLP with 50,50 Accuracy Score:\",mlp5050_acc_score*100)\n",
    "\n"
   ]
  },
  {
   "cell_type": "code",
   "execution_count": 21,
   "metadata": {},
   "outputs": [
    {
     "name": "stdout",
     "output_type": "stream",
     "text": [
      "MLP with 100,50 Cross Validation Scores: [67.59259259 65.74074074 64.48598131 63.55140187 72.64150943]\n",
      "MLP with 100,50 Accuracy Score: 73.16017316017316\n"
     ]
    }
   ],
   "source": [
    "mlp10050 = MLPClassifier(hidden_layer_sizes=(100,50), random_state=42)\n",
    "mlp10050.fit(X_train, y_train)\n",
    "mlp10050_predict=mlp10050.predict(X_test)\n",
    "mlp10050_conf_matrix=confusion_matrix(y_test, mlp10050_predict)\n",
    "mlp10050_acc_score = accuracy_score(y_test, mlp10050_predict)\n",
    "\n",
    "print(\"MLP with 100,50 Cross Validation Scores:\", cross_val_score(mlp10050, X_train, y_train, cv=5)*100)\n",
    "print(\"MLP with 100,50 Accuracy Score:\",mlp10050_acc_score*100)\n",
    "\n"
   ]
  },
  {
   "cell_type": "code",
   "execution_count": 24,
   "metadata": {},
   "outputs": [
    {
     "name": "stdout",
     "output_type": "stream",
     "text": [
      "Accuracy Scores:\n",
      "MLP with 10,50 Accuracy Score: 74.45887445887446\n",
      "MLP with 50,50 Accuracy Score: 73.59307359307358\n",
      "MLP with 100,50 Accuracy Score: 73.16017316017316\n",
      "\n",
      "Cross Validation Scores:\n",
      "MLP with 10,50 Cross Validation Scores: [65.74074074 66.66666667 66.35514019 60.74766355 68.86792453]\n",
      "MLP with 50,50 Cross Validation Scores: [63.88888889 73.14814815 68.22429907 66.35514019 74.52830189]\n",
      "MLP with 100,50 Cross Validation Scores: [67.59259259 65.74074074 64.48598131 63.55140187 72.64150943]\n"
     ]
    }
   ],
   "source": [
    "print(\"Accuracy Scores:\")\n",
    "print(\"MLP with 10,50 Accuracy Score:\",mlp1050_acc_score*100)\n",
    "print(\"MLP with 50,50 Accuracy Score:\",mlp5050_acc_score*100)\n",
    "print(\"MLP with 100,50 Accuracy Score:\",mlp10050_acc_score*100)\n",
    "\n",
    "print(\"\\nCross Validation Scores:\")\n",
    "print(\"MLP with 10,50 Cross Validation Scores:\", cross_val_score(mlp1050, X_train, y_train, cv=5)*100)\n",
    "print(\"MLP with 50,50 Cross Validation Scores:\", cross_val_score(mlp5050, X_train, y_train, cv=5)*100)\n",
    "print(\"MLP with 100,50 Cross Validation Scores:\", cross_val_score(mlp10050, X_train, y_train, cv=5)*100)"
   ]
  },
  {
   "cell_type": "markdown",
   "metadata": {},
   "source": [
    "## Double Perceptron Layers w/ 2nd layer at 100"
   ]
  },
  {
   "cell_type": "code",
   "execution_count": 25,
   "metadata": {},
   "outputs": [
    {
     "name": "stdout",
     "output_type": "stream",
     "text": [
      "MLP with 10,100 Cross Validation Scores: [61.11111111 66.66666667 70.09345794 61.68224299 68.86792453]\n",
      "MLP with 10,100 Accuracy Score: 72.2943722943723\n"
     ]
    }
   ],
   "source": [
    "mlp10100 = MLPClassifier(hidden_layer_sizes=(10,100), random_state=42)\n",
    "mlp10100.fit(X_train, y_train)\n",
    "mlp10100_predict=mlp10100.predict(X_test)\n",
    "mlp10100_conf_matrix=confusion_matrix(y_test, mlp10100_predict)\n",
    "mlp10100_acc_score = accuracy_score(y_test, mlp10100_predict)\n",
    "\n",
    "print(\"MLP with 10,100 Cross Validation Scores:\", cross_val_score(mlp10100, X_train, y_train, cv=5)*100)\n",
    "print(\"MLP with 10,100 Accuracy Score:\",mlp10100_acc_score*100)\n"
   ]
  },
  {
   "cell_type": "code",
   "execution_count": 26,
   "metadata": {},
   "outputs": [
    {
     "name": "stdout",
     "output_type": "stream",
     "text": [
      "MLP with 50,100 Cross Validation Scores: [63.88888889 65.74074074 68.22429907 67.28971963 70.75471698]\n",
      "MLP with 50,100 Accuracy Score: 70.12987012987013\n"
     ]
    }
   ],
   "source": [
    "mlp50100 = MLPClassifier(hidden_layer_sizes=(50,100), random_state=42)\n",
    "mlp50100.fit(X_train, y_train)\n",
    "mlp50100_predict=mlp50100.predict(X_test)\n",
    "mlp50100_conf_matrix=confusion_matrix(y_test, mlp50100_predict)\n",
    "mlp50100_acc_score = accuracy_score(y_test, mlp50100_predict)\n",
    "\n",
    "print(\"MLP with 50,100 Cross Validation Scores:\", cross_val_score(mlp50100, X_train, y_train, cv=5)*100)\n",
    "print(\"MLP with 50,100 Accuracy Score:\",mlp50100_acc_score*100)\n"
   ]
  },
  {
   "cell_type": "code",
   "execution_count": 27,
   "metadata": {},
   "outputs": [
    {
     "name": "stdout",
     "output_type": "stream",
     "text": [
      "MLP with 100,100 Cross Validation Scores: [67.59259259 64.81481481 62.61682243 59.81308411 66.03773585]\n",
      "MLP with 100,100 Accuracy Score: 76.19047619047619\n"
     ]
    }
   ],
   "source": [
    "# Establish and fit the model, with a single, 100 perceptron layer.\n",
    "mlp100100 = MLPClassifier(hidden_layer_sizes=(100,100), random_state=42)\n",
    "mlp100100.fit(X_train, y_train)\n",
    "mlp100100_predict=mlp100100.predict(X_test)\n",
    "mlp100100_conf_matrix=confusion_matrix(y_test, mlp100100_predict)\n",
    "mlp100100_acc_score = accuracy_score(y_test, mlp100100_predict)\n",
    "\n",
    "print(\"MLP with 100,100 Cross Validation Scores:\", cross_val_score(mlp100100, X_train, y_train, cv=5)*100)\n",
    "print(\"MLP with 100,100 Accuracy Score:\",mlp100100_acc_score*100)\n"
   ]
  },
  {
   "cell_type": "code",
   "execution_count": 28,
   "metadata": {},
   "outputs": [
    {
     "name": "stdout",
     "output_type": "stream",
     "text": [
      "Accuracy Scores:\n",
      "MLP with 10,100 Accuracy Score: 72.2943722943723\n",
      "MLP with 50,100 Accuracy Score: 70.12987012987013\n",
      "MLP with 100,100 Accuracy Score: 76.19047619047619\n",
      "\n",
      "Cross Validation Scores:\n",
      "MLP with 10,100 Cross Validation Scores: [61.11111111 66.66666667 70.09345794 61.68224299 68.86792453]\n",
      "MLP with 50,100 Cross Validation Scores: [63.88888889 65.74074074 68.22429907 67.28971963 70.75471698]\n",
      "MLP with 100,100 Cross Validation Scores: [67.59259259 64.81481481 62.61682243 59.81308411 66.03773585]\n"
     ]
    }
   ],
   "source": [
    "print(\"Accuracy Scores:\")\n",
    "print(\"MLP with 10,100 Accuracy Score:\",mlp10100_acc_score*100)\n",
    "print(\"MLP with 50,100 Accuracy Score:\",mlp50100_acc_score*100)\n",
    "print(\"MLP with 100,100 Accuracy Score:\",mlp100100_acc_score*100)\n",
    "\n",
    "print(\"\\nCross Validation Scores:\")\n",
    "print(\"MLP with 10,100 Cross Validation Scores:\", cross_val_score(mlp10100, X_train, y_train, cv=5)*100)\n",
    "print(\"MLP with 50,100 Cross Validation Scores:\", cross_val_score(mlp50100, X_train, y_train, cv=5)*100)\n",
    "print(\"MLP with 100,100 Cross Validation Scores:\", cross_val_score(mlp100100, X_train, y_train, cv=5)*100)"
   ]
  },
  {
   "cell_type": "markdown",
   "metadata": {},
   "source": [
    "## Triple Perceptron Layers w/ 2nd and 3rd layers at 10"
   ]
  },
  {
   "cell_type": "code",
   "execution_count": 29,
   "metadata": {},
   "outputs": [
    {
     "name": "stdout",
     "output_type": "stream",
     "text": [
      "MLP with 10,10,10 Cross Validation Scores: [66.66666667 68.51851852 65.42056075 54.20560748 72.64150943]\n",
      "MLP with 10,10,10 Accuracy Score: 72.2943722943723\n"
     ]
    }
   ],
   "source": [
    "mlp101010 = MLPClassifier(hidden_layer_sizes=(10,10,10), random_state=42)\n",
    "mlp101010.fit(X_train, y_train)\n",
    "mlp101010_predict=mlp101010.predict(X_test)\n",
    "mlp101010_conf_matrix=confusion_matrix(y_test, mlp101010_predict)\n",
    "mlp101010_acc_score = accuracy_score(y_test, mlp101010_predict)\n",
    "\n",
    "print(\"MLP with 10,10,10 Cross Validation Scores:\", cross_val_score(mlp101010, X_train, y_train, cv=5)*100)\n",
    "print(\"MLP with 10,10,10 Accuracy Score:\",mlp101010_acc_score*100)\n"
   ]
  },
  {
   "cell_type": "code",
   "execution_count": 30,
   "metadata": {},
   "outputs": [
    {
     "name": "stdout",
     "output_type": "stream",
     "text": [
      "MLP with 50,10,10 Cross Validation Scores: [62.96296296 70.37037037 64.48598131 65.42056075 73.58490566]\n",
      "MLP with 50,10,10 Accuracy Score: 76.19047619047619\n"
     ]
    }
   ],
   "source": [
    "mlp501010 = MLPClassifier(hidden_layer_sizes=(50,10,10), random_state=42)\n",
    "mlp501010.fit(X_train, y_train)\n",
    "mlp501010_predict=mlp501010.predict(X_test)\n",
    "mlp501010_conf_matrix=confusion_matrix(y_test, mlp501010_predict)\n",
    "mlp501010_acc_score = accuracy_score(y_test, mlp501010_predict)\n",
    "\n",
    "print(\"MLP with 50,10,10 Cross Validation Scores:\", cross_val_score(mlp501010, X_train, y_train, cv=5)*100)\n",
    "print(\"MLP with 50,10,10 Accuracy Score:\",mlp501010_acc_score*100)\n"
   ]
  },
  {
   "cell_type": "code",
   "execution_count": 31,
   "metadata": {},
   "outputs": [
    {
     "name": "stdout",
     "output_type": "stream",
     "text": [
      "MLP with 100,10,10 Cross Validation Scores: [62.96296296 73.14814815 67.28971963 67.28971963 72.64150943]\n",
      "MLP with 100,10,10 Accuracy Score: 72.72727272727273\n"
     ]
    }
   ],
   "source": [
    "# Establish and fit the model, with a single, 100 perceptron layer.\n",
    "mlp1001010 = MLPClassifier(hidden_layer_sizes=(100,10,10), random_state=42)\n",
    "mlp1001010.fit(X_train, y_train)\n",
    "mlp1001010_predict=mlp1001010.predict(X_test)\n",
    "mlp1001010_conf_matrix=confusion_matrix(y_test, mlp1001010_predict)\n",
    "mlp1001010_acc_score = accuracy_score(y_test, mlp1001010_predict)\n",
    "\n",
    "print(\"MLP with 100,10,10 Cross Validation Scores:\", cross_val_score(mlp1001010, X_train, y_train, cv=5)*100)\n",
    "print(\"MLP with 100,10,10 Accuracy Score:\",mlp1001010_acc_score*100)\n"
   ]
  },
  {
   "cell_type": "code",
   "execution_count": 32,
   "metadata": {},
   "outputs": [
    {
     "name": "stdout",
     "output_type": "stream",
     "text": [
      "Accuracy Scores:\n",
      "MLP with 10,10,10 Accuracy Score: 72.2943722943723\n",
      "MLP with 50,10,10 Accuracy Score: 76.19047619047619\n",
      "MLP with 100,10,10 Accuracy Score: 72.72727272727273\n",
      "\n",
      "Cross Validation Scores:\n",
      "MLP with 10,10,10 Cross Validation Scores: [66.66666667 68.51851852 65.42056075 54.20560748 72.64150943]\n",
      "MLP with 50,10,10 Cross Validation Scores: [62.96296296 70.37037037 64.48598131 65.42056075 73.58490566]\n",
      "MLP with 100,10,10 Cross Validation Scores: [62.96296296 73.14814815 67.28971963 67.28971963 72.64150943]\n"
     ]
    }
   ],
   "source": [
    "print(\"Accuracy Scores:\")\n",
    "print(\"MLP with 10,10,10 Accuracy Score:\",mlp101010_acc_score*100)\n",
    "print(\"MLP with 50,10,10 Accuracy Score:\",mlp501010_acc_score*100)\n",
    "print(\"MLP with 100,10,10 Accuracy Score:\",mlp1001010_acc_score*100)\n",
    "\n",
    "print(\"\\nCross Validation Scores:\")\n",
    "print(\"MLP with 10,10,10 Cross Validation Scores:\", cross_val_score(mlp101010, X_train, y_train, cv=5)*100)\n",
    "print(\"MLP with 50,10,10 Cross Validation Scores:\", cross_val_score(mlp501010, X_train, y_train, cv=5)*100)\n",
    "print(\"MLP with 100,10,10 Cross Validation Scores:\", cross_val_score(mlp1001010, X_train, y_train, cv=5)*100)"
   ]
  },
  {
   "cell_type": "markdown",
   "metadata": {},
   "source": [
    "## 3 layers all even"
   ]
  },
  {
   "cell_type": "code",
   "execution_count": 34,
   "metadata": {},
   "outputs": [
    {
     "name": "stdout",
     "output_type": "stream",
     "text": [
      "MLP with 10,10,10 Cross Validation Scores: [66.66666667 68.51851852 65.42056075 54.20560748 72.64150943]\n",
      "MLP with 10,10,10 Accuracy Score: 72.2943722943723\n"
     ]
    }
   ],
   "source": [
    "mlp101010 = MLPClassifier(hidden_layer_sizes=(10,10,10), random_state=42)\n",
    "mlp101010.fit(X_train, y_train)\n",
    "mlp101010_predict=mlp101010.predict(X_test)\n",
    "mlp101010_conf_matrix=confusion_matrix(y_test, mlp101010_predict)\n",
    "mlp101010_acc_score = accuracy_score(y_test, mlp101010_predict)\n",
    "\n",
    "print(\"MLP with 10,10,10 Cross Validation Scores:\", cross_val_score(mlp101010, X_train, y_train, cv=5)*100)\n",
    "print(\"MLP with 10,10,10 Accuracy Score:\",mlp101010_acc_score*100)\n"
   ]
  },
  {
   "cell_type": "code",
   "execution_count": 35,
   "metadata": {},
   "outputs": [
    {
     "name": "stdout",
     "output_type": "stream",
     "text": [
      "MLP with 50,50,50 Cross Validation Scores: [60.18518519 68.51851852 70.09345794 65.42056075 66.98113208]\n",
      "MLP with 50,50,50 Accuracy Score: 67.09956709956711\n"
     ]
    }
   ],
   "source": [
    "mlp505050 = MLPClassifier(hidden_layer_sizes=(50,50,50), random_state=42)\n",
    "mlp505050.fit(X_train, y_train)\n",
    "mlp505050_predict=mlp505050.predict(X_test)\n",
    "mlp505050_conf_matrix=confusion_matrix(y_test, mlp505050_predict)\n",
    "mlp505050_acc_score = accuracy_score(y_test, mlp505050_predict)\n",
    "\n",
    "print(\"MLP with 50,50,50 Cross Validation Scores:\", cross_val_score(mlp505050, X_train, y_train, cv=5)*100)\n",
    "print(\"MLP with 50,50,50 Accuracy Score:\",mlp505050_acc_score*100)\n"
   ]
  },
  {
   "cell_type": "code",
   "execution_count": 36,
   "metadata": {},
   "outputs": [
    {
     "name": "stdout",
     "output_type": "stream",
     "text": [
      "MLP with 100,100,100 Cross Validation Scores: [62.03703704 63.88888889 70.09345794 61.68224299 72.64150943]\n",
      "MLP with 100,100,100 Accuracy Score: 73.59307359307358\n"
     ]
    }
   ],
   "source": [
    "mlp100100100 = MLPClassifier(hidden_layer_sizes=(100,100,100), random_state=42)\n",
    "mlp100100100.fit(X_train, y_train)\n",
    "mlp100100100_predict=mlp100100100.predict(X_test)\n",
    "mlp100100100_conf_matrix=confusion_matrix(y_test, mlp100100100_predict)\n",
    "mlp100100100_acc_score = accuracy_score(y_test, mlp100100100_predict)\n",
    "\n",
    "print(\"MLP with 100,100,100 Cross Validation Scores:\", cross_val_score(mlp100100100, X_train, y_train, cv=5)*100)\n",
    "print(\"MLP with 100,100,100 Accuracy Score:\",mlp100100100_acc_score*100)\n"
   ]
  },
  {
   "cell_type": "code",
   "execution_count": 37,
   "metadata": {},
   "outputs": [
    {
     "name": "stdout",
     "output_type": "stream",
     "text": [
      "Accuracy Scores:\n",
      "MLP with 10,10,10 Accuracy Score: 72.2943722943723\n",
      "MLP with 50,50,50 Accuracy Score: 67.09956709956711\n",
      "MLP with 100,100,100 Accuracy Score: 73.59307359307358\n",
      "\n",
      "Cross Validation Scores:\n",
      "MLP with 10,10,10 Cross Validation Scores: [66.66666667 68.51851852 65.42056075 54.20560748 72.64150943]\n",
      "MLP with 50,50,50 Cross Validation Scores: [60.18518519 68.51851852 70.09345794 65.42056075 66.98113208]\n",
      "MLP with 100,100,100 Cross Validation Scores: [62.03703704 63.88888889 70.09345794 61.68224299 72.64150943]\n"
     ]
    }
   ],
   "source": [
    "print(\"Accuracy Scores:\")\n",
    "print(\"MLP with 10,10,10 Accuracy Score:\",mlp101010_acc_score*100)\n",
    "print(\"MLP with 50,50,50 Accuracy Score:\",mlp505050_acc_score*100)\n",
    "print(\"MLP with 100,100,100 Accuracy Score:\",mlp100100100_acc_score*100)\n",
    "\n",
    "print(\"\\nCross Validation Scores:\")\n",
    "print(\"MLP with 10,10,10 Cross Validation Scores:\", cross_val_score(mlp101010, X_train, y_train, cv=5)*100)\n",
    "print(\"MLP with 50,50,50 Cross Validation Scores:\", cross_val_score(mlp505050, X_train, y_train, cv=5)*100)\n",
    "print(\"MLP with 100,100,100 Cross Validation Scores:\", cross_val_score(mlp100100100, X_train, y_train, cv=5)*100)"
   ]
  },
  {
   "cell_type": "code",
   "execution_count": 38,
   "metadata": {},
   "outputs": [
    {
     "name": "stdout",
     "output_type": "stream",
     "text": [
      "MLP with 100,150 Cross Validation Scores: [67.59259259 69.44444444 71.02803738 64.48598131 67.9245283 ]\n",
      "MLP with 100,150 Accuracy Score: 70.995670995671\n"
     ]
    }
   ],
   "source": [
    "### Checking 100 with a bigger 2nd layer \n",
    "\n",
    "# Establish and fit the model, with a single, 100 perceptron layer.\n",
    "mlp100150 = MLPClassifier(hidden_layer_sizes=(100,150), random_state=42)\n",
    "mlp100150.fit(X_train, y_train)\n",
    "mlp100150_predict=mlp100150.predict(X_test)\n",
    "mlp100150_conf_matrix=confusion_matrix(y_test, mlp100150_predict)\n",
    "mlp100150_acc_score = accuracy_score(y_test, mlp100150_predict)\n",
    "\n",
    "print(\"MLP with 100,150 Cross Validation Scores:\", cross_val_score(mlp100150, X_train, y_train, cv=5)*100)\n",
    "print(\"MLP with 100,150 Accuracy Score:\",mlp100150_acc_score*100)\n"
   ]
  },
  {
   "cell_type": "markdown",
   "metadata": {},
   "source": [
    "### Summary? \n",
    "\n",
    "<b>A girl knows nothing. A girl has no conclusion."
   ]
  },
  {
   "cell_type": "code",
   "execution_count": null,
   "metadata": {},
   "outputs": [],
   "source": []
  },
  {
   "cell_type": "code",
   "execution_count": null,
   "metadata": {},
   "outputs": [],
   "source": []
  },
  {
   "cell_type": "code",
   "execution_count": null,
   "metadata": {},
   "outputs": [],
   "source": []
  },
  {
   "cell_type": "code",
   "execution_count": null,
   "metadata": {},
   "outputs": [],
   "source": []
  },
  {
   "cell_type": "code",
   "execution_count": null,
   "metadata": {},
   "outputs": [],
   "source": []
  },
  {
   "cell_type": "code",
   "execution_count": null,
   "metadata": {},
   "outputs": [],
   "source": []
  }
 ],
 "metadata": {
  "kernelspec": {
   "display_name": "Python 3",
   "language": "python",
   "name": "python3"
  },
  "language_info": {
   "codemirror_mode": {
    "name": "ipython",
    "version": 3
   },
   "file_extension": ".py",
   "mimetype": "text/x-python",
   "name": "python",
   "nbconvert_exporter": "python",
   "pygments_lexer": "ipython3",
   "version": "3.7.2"
  }
 },
 "nbformat": 4,
 "nbformat_minor": 2
}
